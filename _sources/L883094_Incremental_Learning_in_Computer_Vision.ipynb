{
  "cells": [
    {
      "cell_type": "markdown",
      "metadata": {
        "id": "8tm1abCL-zXw"
      },
      "source": [
        "# Incremental Learning in Computer Vision"
      ]
    },
    {
      "cell_type": "markdown",
      "metadata": {
        "id": "_bxqkqXI-51r"
      },
      "source": [
        "## Three continual learning scenarios in the context of computer vision\n",
        "\n",
        "<p><center><img src='_images/L883094_1.png'></center></p>\n",
        "\n",
        "In the first scenario, models are always informed about which task needs to be performed. This is the easiest continual learning scenario, and we refer to it as task-incremental learning (Task-IL). Since task identity is always provided, in this scenario it is possible to train models with task-specific components. A typical network architecture used in this scenario has a “multi-headed” output layer, meaning that each task has its own output units but the rest of the network is (potentially) shared between tasks. Example - **With task given, is it the 1st or 2nd class? (e.g., 0 or 1)**.\n",
        "\n",
        "In the second scenario, which we refer to as domain-incremental learning (Domain-IL), task identity is not available at test time. Models however only need to solve the task at hand; they are not required to infer which task it is. Typical examples of this scenario are protocols whereby the structure of the tasks is always the same, but the input-distribution is changing. A relevant real-world example is an agent who needs to learn to survive in different environments, without the need to explicitly identify the environment it is confronted with. Example - **With task unknown, is it a 1st or 2nd class? (e.g., in [0, 2, 4, 6, 8] or in [1, 3, 5, 7, 9]).**\n",
        "\n",
        "Finally, in the third scenario, models must be able to both solve each task seen so far and infer which task they are presented with. We refer to this scenario as class-incremental learning (Class-IL), as it includes the common real-world problem of incrementally learning new classes of objects. Example - **With task unknown, which digit is it? (i.e., choice from 0 to 9)**.\n",
        "\n",
        "<p><center><figure><img src='_images/L883094_2.png'><figcaption>Examples of the three CL scenarios. (x, y, task-ID) represents (input images, target label and task identity). The main distinction between task incremental and class incremental is the availability of task-ID. The main difference between class incremental and domain incremental is that, in class incremental, a new task contains completely new classes, whereas domain incremental, a new task consists of new instances with nonstationarity (e.g., noise) of all the seen classes.</figcaption></figure></center></p>"
      ]
    }
  ],
  "metadata": {
    "colab": {
      "name": "L883094_Incremental_Learning_in_Computer_Vision.ipynb",
      "toc_visible": true
    },
    "kernelspec": {
      "display_name": "Python 3",
      "name": "python3"
    }
  },
  "nbformat": 4,
  "nbformat_minor": 0
}
