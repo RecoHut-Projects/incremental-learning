{
  "cells": [
    {
      "cell_type": "markdown",
      "metadata": {
        "id": "O64DaeQl0L-l"
      },
      "source": [
        "# Scikit Multiflow"
      ]
    },
    {
      "cell_type": "markdown",
      "metadata": {
        "id": "w5_IJ4T10NsI"
      },
      "source": [
        "## Setup"
      ]
    },
    {
      "cell_type": "code",
      "execution_count": null,
      "metadata": {
        "id": "329eLJ3nPyqX"
      },
      "outputs": [],
      "source": [
        "!pip install -U scikit-multiflow"
      ]
    },
    {
      "cell_type": "markdown",
      "metadata": {
        "id": "qP2t-QeJPzI7"
      },
      "source": [
        "## Train and test a stream classification model in scikit-multiflow"
      ]
    },
    {
      "cell_type": "markdown",
      "metadata": {
        "id": "KE2jwGs3P5C3"
      },
      "source": [
        "In this example, we will use a data stream to train a HoeffdingTreeClassifier and will measure its performance using prequential evaluation."
      ]
    },
    {
      "cell_type": "code",
      "execution_count": null,
      "metadata": {
        "id": "EYMMbT92P5ey"
      },
      "outputs": [
        {
          "name": "stdout",
          "output_type": "stream",
          "text": [
            "Prequential Evaluation\n",
            "Evaluating 1 target(s).\n",
            "Pre-training on 200 sample(s).\n",
            "Evaluating...\n",
            " #################### [100%] [20.98s]\n",
            "Processed samples: 20000\n",
            "Mean performance:\n",
            "M0 - Accuracy     : 0.7890\n",
            "M0 - Kappa        : 0.6835\n"
          ]
        },
        {
          "data": {
            "text/plain": [
              "[HoeffdingTreeClassifier(binary_split=False, grace_period=200,\n",
              "                         leaf_prediction='nba', max_byte_size=33554432,\n",
              "                         memory_estimate_period=1000000, nb_threshold=0,\n",
              "                         no_preprune=False, nominal_attributes=None,\n",
              "                         remove_poor_atts=False, split_confidence=1e-07,\n",
              "                         split_criterion='info_gain', stop_mem_management=False,\n",
              "                         tie_threshold=0.05)]"
            ]
          },
          "execution_count": 3,
          "metadata": {},
          "output_type": "execute_result"
        }
      ],
      "source": [
        "from skmultiflow.data import WaveformGenerator\n",
        "from skmultiflow.trees import HoeffdingTreeClassifier\n",
        "from skmultiflow.evaluation import EvaluatePrequential\n",
        "\n",
        "# 1. Create a stream\n",
        "stream = WaveformGenerator()\n",
        "\n",
        "# 2. Instantiate the HoeffdingTreeClassifier\n",
        "ht = HoeffdingTreeClassifier()\n",
        "\n",
        "# 3. Setup the evaluator\n",
        "evaluator = EvaluatePrequential(show_plot=False,\n",
        "                                pretrain_size=200,\n",
        "                                max_samples=20000)\n",
        "\n",
        "# 4. Run evaluation\n",
        "evaluator.evaluate(stream=stream, model=ht)"
      ]
    },
    {
      "cell_type": "markdown",
      "metadata": {
        "id": "gtY1m239QhNs"
      },
      "source": [
        "<img src='https://scikit-multiflow.readthedocs.io/en/stable/_images/example_classifier_plot.gif'>"
      ]
    },
    {
      "cell_type": "markdown",
      "metadata": {
        "id": "NRky6JyjSyn3"
      },
      "source": [
        "## Adaptive Sliding Window (ADWIN) for concept-drift detection\n",
        "\n",
        "ADWIN adjusts the mean values of the objects and keeps those below a threshold level (epsilon). If the mean values significantly deviate from a threshold, it deletes the corresponding old part. It is adaptive to the changing data. For instance, if the change is taking place the window size will shrink automatically, else if the data is stationary the window size will grow to improve the accuracy.\n",
        "\n",
        "The intuition behind using ADWIN is to keep statistics from a window of variable size while detecting concept drift. By using the scikit-multiflow library I simulated a distorted data stream with a normal distribution.\n",
        "\n",
        "The code below is used for catching the concept drift in the normal distribution (with a mean of 0 and a standard deviation of 0.25). I changed the stream values with the indices between 1000 and 2000 with a different normal distribution (with a mean of 1 and a standard deviation of 0.5). Hence, I expected a width change (decrease) between the stream values 1000 till 2000 and an increase in width till the end of the stream."
      ]
    },
    {
      "cell_type": "code",
      "execution_count": null,
      "metadata": {
        "id": "hYndnezGP9xG"
      },
      "outputs": [
        {
          "name": "stdout",
          "output_type": "stream",
          "text": [
            "Change in index 1055 for stream value 1.1031808856627254\n",
            "Change in index 1087 for stream value 1.0399007420293664\n",
            "Change in index 1119 for stream value 0.4800967344865579\n",
            "Change in index 1151 for stream value 1.5638901253169493\n",
            "Change in index 1247 for stream value 2.0981115710764\n",
            "Change in index 2079 for stream value -0.1125473162128529\n",
            "Change in index 2111 for stream value -0.04069822651807355\n",
            "Change in index 2143 for stream value 0.060988299477125064\n",
            "Change in index 2175 for stream value 0.5223846804236933\n",
            "Change in index 2367 for stream value -0.4268394893982367\n"
          ]
        }
      ],
      "source": [
        "import numpy as np\n",
        "\n",
        "from skmultiflow.drift_detection.adwin import ADWIN\n",
        "\n",
        "adwin = ADWIN(delta=0.0002)\n",
        "SEED = np.random.seed(42)\n",
        "\n",
        "# Simulating a data stream as a normal distribution of 1's and 0's\n",
        "mu, sigma = 0, 0.25  # mean and standard deviation\n",
        "data_stream = np.random.normal(mu, sigma, 4000)\n",
        "\n",
        "# Changing the data concept from index 1000 to 2000\n",
        "mu_broken, sigma_broken = 1, 0.5\n",
        "data_stream[1000:2000] = np.random.normal(mu_broken, sigma_broken, 1000)\n",
        "\n",
        "width_vs_variance = []\n",
        "\n",
        "# Adding stream elements to ADWIN and verifying if drift occurred\n",
        "for idx in range(4000):\n",
        "\n",
        "    adwin.add_element(data_stream[idx])\n",
        "\n",
        "    if adwin.detected_change():\n",
        "        print(f\"Change in index {idx} for stream value {data_stream[idx]}\")\n",
        "\n",
        "    width_vs_variance.append((adwin.width, adwin.variance, idx))"
      ]
    }
  ],
  "metadata": {
    "colab": {
      "collapsed_sections": [],
      "name": "T063084_Scikit_Multiflow.ipynb",
      "toc_visible": true
    },
    "kernelspec": {
      "display_name": "Python 3",
      "name": "python3"
    }
  },
  "nbformat": 4,
  "nbformat_minor": 0
}
