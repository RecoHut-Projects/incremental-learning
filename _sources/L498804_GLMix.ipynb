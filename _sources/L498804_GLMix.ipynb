{
  "cells": [
    {
      "cell_type": "markdown",
      "metadata": {
        "id": "AX4EwvoWLmkg"
      },
      "source": [
        "# GLMix"
      ]
    },
    {
      "cell_type": "markdown",
      "metadata": {
        "id": "aEBdufeuB-tf"
      },
      "source": [
        "Generalized Linear Mixed Effects model (GLMix) decomposes a personalized recommender system into 2 submodels: one fixed effects model to capture the general trend which is invariant to different entities, and random effects models to build individual linear models for different types of sparse Id features. Compared with deep learning models, GLMix trains faster because it incorporates a divide-and-conquer approach: we first train the fixed effects model, and then train random effects models on the residuals after scoring the fixed effects model, and go back to fixed effects model training again until convergence (Zhang et al., 2016)."
      ]
    }
  ],
  "metadata": {
    "colab": {
      "collapsed_sections": [],
      "name": "L498804_GLMix.ipynb",
      "toc_visible": true
    },
    "kernelspec": {
      "display_name": "Python 3",
      "name": "python3"
    }
  },
  "nbformat": 4,
  "nbformat_minor": 0
}
